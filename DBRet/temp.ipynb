{
 "cells": [
  {
   "cell_type": "markdown",
   "metadata": {},
   "source": [
    "## Installing CATPY"
   ]
  },
  {
   "cell_type": "code",
   "execution_count": 3,
   "metadata": {},
   "outputs": [
    {
     "name": "stdout",
     "output_type": "stream",
     "text": [
      "Downloading...\n",
      "From (original): https://drive.google.com/uc?id=1-AQUP3kZi7dyrYZOX5U72rk9ZDxcUks_\n",
      "From (redirected): https://drive.google.com/uc?id=1-AQUP3kZi7dyrYZOX5U72rk9ZDxcUks_&confirm=t&uuid=12d951ff-4c51-4715-a1da-660717a2f908\n",
      "To: /home/omare/QAgent/QAgent-Backend-experiment/DBRet/catPy.index\n",
      "100%|███████████████████████████████████████| 1.51G/1.51G [00:15<00:00, 100MB/s]\n"
     ]
    }
   ],
   "source": [
    "!gdown https://drive.google.com/uc?id=1-AQUP3kZi7dyrYZOX5U72rk9ZDxcUks_"
   ]
  },
  {
   "cell_type": "markdown",
   "metadata": {},
   "source": [
    "## Installing CATJava"
   ]
  },
  {
   "cell_type": "code",
   "execution_count": 5,
   "metadata": {},
   "outputs": [
    {
     "name": "stdout",
     "output_type": "stream",
     "text": [
      "Downloading...\n",
      "From (original): https://drive.google.com/uc?id=1V3S8mM8rh94RczR4yVunYgEIK92a9wRF\n",
      "From (redirected): https://drive.google.com/uc?id=1V3S8mM8rh94RczR4yVunYgEIK92a9wRF&confirm=t&uuid=a14f748a-1cdd-4af4-9921-00314a3c6b37\n",
      "To: /home/omare/QAgent/QAgent-Backend-experiment/DBRet/catJava.index\n",
      "100%|██████████████████████████████████████| 2.51G/2.51G [00:30<00:00, 82.9MB/s]\n"
     ]
    }
   ],
   "source": [
    "!gdown  https://drive.google.com/uc?id=1V3S8mM8rh94RczR4yVunYgEIK92a9wRF"
   ]
  }
 ],
 "metadata": {
  "kernelspec": {
   "display_name": "venv",
   "language": "python",
   "name": "python3"
  },
  "language_info": {
   "codemirror_mode": {
    "name": "ipython",
    "version": 3
   },
   "file_extension": ".py",
   "mimetype": "text/x-python",
   "name": "python",
   "nbconvert_exporter": "python",
   "pygments_lexer": "ipython3",
   "version": "3.12.3"
  }
 },
 "nbformat": 4,
 "nbformat_minor": 2
}
